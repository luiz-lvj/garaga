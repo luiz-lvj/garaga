{
 "cells": [
  {
   "cell_type": "code",
   "execution_count": 1,
   "id": "b4db3318-3484-48cc-b638-6cdbda7466dc",
   "metadata": {},
   "outputs": [],
   "source": [
    "def generate_lattice_matrix(q, r, k):\n",
    "    # Compute the Euler's totient function of k\n",
    "    phi_k = euler_phi(k)\n",
    "    \n",
    "    # Initialize the matrix of size phi_k x phi_k\n",
    "    L = Matrix(ZZ, phi_k, phi_k)\n",
    "    \n",
    "    # Set the first row of the matrix\n",
    "    L[0, 0] = r\n",
    "    for j in range(1, phi_k):\n",
    "        L[0, j] = 0\n",
    "        \n",
    "    # Fill the rest of the matrix\n",
    "    for i in range(1, phi_k):\n",
    "        # q^i and it should be negative\n",
    "        L[i, 0] = -q^i\n",
    "        # Identity matrix part shifted by 1 row\n",
    "        for j in range(1, phi_k):\n",
    "            if i == j:\n",
    "                L[i, j] = 1\n",
    "            else:\n",
    "                L[i, j] = 0\n",
    "                \n",
    "    return L\n",
    "    \n",
    "def find_vectors_and_sort_by_norm(L, x):\n",
    "    # Compute the LLL-reduced basis of the lattice\n",
    "    L_reduced = L.LLL()\n",
    "    vectors_and_norms = []\n",
    "    for vec in L_reduced.rows():\n",
    "        # Calculate the Euclidean norm of the vector\n",
    "        norm = vec.norm()\n",
    "        vectors_and_norms.append((vec, norm))\n",
    "    vectors_and_norms.sort(key=lambda x: x[1])\n",
    "    for vec in vectors_and_norms:\n",
    "        print(\"\\n\")\n",
    "        vec_x = [f\"{c//x}x + {c%x}\" if abs(c) > 10 else f\"{c}\" for c in vec[0]]\n",
    "        print(f\"Norm: {vec[1]}\")\n",
    "        print(f\"Vector {vec_x}\")\n",
    "    print(\"\\n\")\n",
    "    return [v[0] for v in vectors_and_norms]"
   ]
  },
  {
   "cell_type": "code",
   "execution_count": 2,
   "id": "fd16d29c-2708-497e-848e-622dbb0d1cf9",
   "metadata": {},
   "outputs": [],
   "source": [
    "q_bn = 0x30644E72E131A029B85045B68181585D97816A916871CA8D3C208C16D87CFD47\n",
    "r_bn = 0x30644E72E131A029B85045B68181585D2833E84879B9709143E1F593F0000001\n",
    "k = 12 \n",
    "\n",
    "q_bls=0x1A0111EA397FE69A4B1BA7B6434BACD764774B84F38512BF6730D2A0F6B0F6241EABFFFEB153FFFFB9FEFFFFFFFFAAAB\n",
    "r_bls = 0x73EDA753299D7D483339D80809A1D80553BDA402FFFE5BFEFFFFFFFF00000001\n",
    "\n",
    "# Generate the matrix L\n",
    "L_bn = generate_lattice_matrix(q_bn, r_bn, k)\n",
    "\n",
    "L_bls = generate_lattice_matrix(q_bls, r_bls, k)\n"
   ]
  },
  {
   "cell_type": "code",
   "execution_count": 3,
   "id": "09459ea5-59fe-4751-afeb-5464374ed802",
   "metadata": {},
   "outputs": [
    {
     "name": "stdout",
     "output_type": "stream",
     "text": [
      "BN\n",
      "\n",
      "\n",
      "Norm: sqrt(172604549695420872165903982148706362890)\n",
      "Vector ['2x + 0', '1x + 1', '-1x + 0', '1x + 0']\n",
      "\n",
      "\n",
      "Norm: sqrt(172604549695420872165903982148706362890)\n",
      "Vector ['1x + 1', '1x + 0', '1x + 0', '-2x + 0']\n",
      "\n",
      "\n",
      "Norm: 2*sqrt(43151137423855218043958826220773015163)\n",
      "Vector ['-1x + 0', '1x + 0', '-1x + 0', '-3x + 4965661367192848880']\n",
      "\n",
      "\n",
      "Norm: sqrt(172604549695420872185766627617477758415)\n",
      "Vector ['2x + 1', '-1x + 0', '-2x + 4965661367192848880', '-1x + 0']\n",
      "\n",
      "\n",
      "BLS\n",
      "\n",
      "\n",
      "Norm: sqrt(228988810152649578064853576960394133505)\n",
      "Vector ['-1x + 0', '1', '0', '0']\n",
      "\n",
      "\n",
      "Norm: sqrt(228988810152649578064853576960394133505)\n",
      "Vector ['0', '-1x + 0', '1', '0']\n",
      "\n",
      "\n",
      "Norm: sqrt(228988810152649578064853576960394133505)\n",
      "Vector ['0', '0', '-1x + 0', '1']\n",
      "\n",
      "\n",
      "Norm: sqrt(228988810152649578064853576960394133506)\n",
      "Vector ['1', '0', '-1', '1x + 0']\n",
      "\n",
      "\n"
     ]
    }
   ],
   "source": [
    "bn_seed=4965661367192848881\n",
    "bls_seed = -15132376222941642752\n",
    "\n",
    "print(f\"BN\")\n",
    "L_reduced = find_vectors_and_sort_by_norm(L_bn, bn_seed)\n",
    "\n",
    "print(f\"BLS\")\n",
    "L_reduced = find_vectors_and_sort_by_norm(L_bls, bls_seed)\n"
   ]
  },
  {
   "cell_type": "code",
   "execution_count": 4,
   "id": "d84e54de-cda1-4ae7-b9f4-0610cb5ead91",
   "metadata": {},
   "outputs": [
    {
     "data": {
      "text/plain": [
       "[(15132376222941642752, 1, 0, 0),\n",
       " (0, 15132376222941642752, 1, 0),\n",
       " (0, 0, 15132376222941642752, 1),\n",
       " (1, 0, -1, -15132376222941642752)]"
      ]
     },
     "execution_count": 4,
     "metadata": {},
     "output_type": "execute_result"
    }
   ],
   "source": [
    "L_reduced"
   ]
  }
 ],
 "metadata": {
  "kernelspec": {
   "display_name": "SageMath 9.5",
   "language": "sage",
   "name": "sagemath"
  },
  "language_info": {
   "codemirror_mode": {
    "name": "ipython",
    "version": 3
   },
   "file_extension": ".py",
   "mimetype": "text/x-python",
   "name": "python",
   "nbconvert_exporter": "python",
   "pygments_lexer": "ipython3",
   "version": "3.10.12"
  }
 },
 "nbformat": 4,
 "nbformat_minor": 5
}
